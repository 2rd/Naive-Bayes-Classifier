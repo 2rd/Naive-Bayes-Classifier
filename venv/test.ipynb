{
 "cells": [
  {
   "cell_type": "code",
   "execution_count": 1,
   "metadata": {},
   "outputs": [],
   "source": [
    "import os\n",
    "import string\n",
    "\n",
    "pos = list()\n",
    "translator = str.maketrans('', '', string.punctuation)\n",
    "# path = 'C:\\\\Users\\\\tordk\\\\Documents\\\\INFO284\\\\1rstGroupAssingment\\\\Project\\\\DATA\\\\aclImdb\\\\train\\\\pos'\n",
    "path = 'C:\\\\Users\\\\tordk\\\\Documents\\\\INFO284\\\\1rstGroupAssingment\\\\300_pos'\n",
    "for filename in os.listdir(path):\n",
    "    with open(path + '\\\\' + filename, encoding='utf-8') as f:\n",
    "\n",
    "        for line in f:\n",
    "            for word in line.split():\n",
    "                \n",
    "                word = word.lower()\n",
    "                word = word.translate(translator)\n",
    "\n",
    "                pos.append(word)\n",
    "\n",
    "           \n",
    "            \n",
    "  \n",
    "\n"
   ]
  },
  {
   "cell_type": "code",
   "execution_count": 2,
   "metadata": {
    "collapsed": false
   },
   "outputs": [],
   "source": [
    "# for word in a:\n",
    "# print (\"count for \" + word + \": \", a.count(word))\n",
    "myDict = dict()\n",
    "    \n",
    "for word in pos:\n",
    "    if word in myDict:\n",
    "        myDict[word] += 1\n",
    "    else:\n",
    "        myDict[word] = 1\n"
   ]
  },
  {
   "cell_type": "code",
   "execution_count": 13,
   "metadata": {},
   "outputs": [
    {
     "name": "stdout",
     "output_type": "stream",
     "text": [
      "67396\n"
     ]
    }
   ],
   "source": [
    "# Returnerer antall ord totalt.\n",
    "totalPosWords = pos.__len__()\n",
    "print(totalPosWords)"
   ]
  },
  {
   "cell_type": "code",
   "execution_count": 5,
   "metadata": {},
   "outputs": [],
   "source": [
    "import os\n",
    "import string\n",
    "\n",
    "neg = list()\n",
    "# path = 'C:\\\\Users\\\\tordk\\\\Documents\\\\INFO284\\\\1rstGroupAssingment\\\\Project\\\\DATA\\\\aclImdb\\\\train\\\\pos'\n",
    "path = 'C:\\\\Users\\\\tordk\\\\Documents\\\\INFO284\\\\1rstGroupAssingment\\\\300_neg'\n",
    "for filename in os.listdir(path):\n",
    "    with open(path + '\\\\' + filename, encoding='utf-8') as f:\n",
    "\n",
    "        for line in f:\n",
    "            for word in line.split():\n",
    "                \n",
    "                word = word.lower()\n",
    "                word = word.translate(translator)\n",
    "\n",
    "                neg.append(word)\n"
   ]
  },
  {
   "cell_type": "code",
   "execution_count": 7,
   "metadata": {},
   "outputs": [],
   "source": [
    "negDict = dict()\n",
    "    \n",
    "for word in pos:\n",
    "    if word in negDict:\n",
    "        negDict[word] += 1\n",
    "    else:\n",
    "        negDict[word] = 1\n",
    "\n"
   ]
  },
  {
   "cell_type": "code",
   "execution_count": 42,
   "metadata": {},
   "outputs": [],
   "source": [
    "# Returnerer antall ord totalt.\n",
    "totalNegWords = neg.__len__()\n",
    "print(totalNegWords)\n"
   ]
  },
  {
   "cell_type": "code",
   "execution_count": 44,
   "metadata": {},
   "outputs": [],
   "source": [
    "uniqueWords = negDict.__len__() + myDict.__len__()\n",
    "print(uniqueWords)"
   ]
  },
  {
   "cell_type": "code",
   "execution_count": 56,
   "metadata": {},
   "outputs": [
    {
     "name": "stdout",
     "output_type": "stream",
     "text": [
      "sanndynslighet for at i er positivt: 0.010100174833435713\nsanndynslighet for at i er negativt: 0.010110565836930173\n"
     ]
    }
   ],
   "source": [
    "word = 'i'\n",
    "pOfWordPos = (myDict[word]+1) / (totalPosWords + uniqueWords)\n",
    "pOfWordNeg = (negDict[word] + 1) / (totalNegWords + uniqueWords)\n",
    "print('sannynslighet for at ' + word + ' er positivt: ' + pOfWordPos.__str__())\n",
    "print('sannynslighet for at ' + word + ' er negativt: ' + pOfWordNeg.__str__())"
   ]
  }
 ],
 "metadata": {},
 "nbformat": 4,
 "nbformat_minor": 0
}
